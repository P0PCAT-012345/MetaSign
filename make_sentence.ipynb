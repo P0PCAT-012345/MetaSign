{
 "cells": [
  {
   "cell_type": "code",
   "execution_count": 1,
   "id": "5073645e",
   "metadata": {},
   "outputs": [],
   "source": [
    "import numpy as np\n",
    "import torch\n",
    "import torch.nn as nn\n",
    "import torch.optim as optim\n",
    "from torch.utils.data import Subset\n",
    "from torch.utils.data import DataLoader\n",
    "\n",
    "from sklearn.model_selection import train_test_split\n",
    "\n",
    "from torchvision import transforms\n",
    "from tqdm import tqdm\n",
    "\n",
    "from dataset import MetaSignGlossDataset\n",
    "from model.model import SiFormer\n",
    "from model.utils import train_epoch, evaluate\n",
    "from model.gaussian_noise import GaussianNoise\n",
    "\n",
    "\n",
    "\n",
    "def __balance_val_split(dataset, val_split=0.):\n",
    "    targets = np.array(dataset.targets)\n",
    "    train_indices, val_indices = train_test_split(\n",
    "        np.arange(targets.shape[0]),\n",
    "        test_size=val_split,\n",
    "        stratify=targets\n",
    "    )\n",
    "\n",
    "    train_dataset = Subset(dataset, indices=train_indices)\n",
    "    val_dataset = Subset(dataset, indices=val_indices)\n",
    "\n",
    "    return train_dataset, val_dataset\n",
    "\n",
    "\n",
    "\n",
    "def get_dataloader(train_set, generator):\n",
    "    train_set, val_set = __balance_val_split(train_set, 0.2)\n",
    "\n",
    "    val_set.transform = None\n",
    "    val_set.augmentations = False\n",
    "    val_loader = DataLoader(val_set, batch_size=24, shuffle=True, generator=generator,\n",
    "                            num_workers=12)\n",
    "    train_loader = DataLoader(train_set, batch_size=24, shuffle=True, generator=generator,\n",
    "                            num_workers=12)\n",
    "\n",
    "    return train_loader, val_loader\n",
    "\n",
    "\n"
   ]
  },
  {
   "cell_type": "code",
   "execution_count": 2,
   "id": "0d8b0de2",
   "metadata": {},
   "outputs": [
    {
     "name": "stderr",
     "output_type": "stream",
     "text": [
      "Loading dataset: 100%|██████████| 21080/21080 [01:26<00:00, 242.56it/s] \n"
     ]
    }
   ],
   "source": [
    "num_epochs = 100\n",
    "device = 'cuda' if torch.cuda.is_available() else 'cpu'\n",
    "generator = torch.Generator()\n",
    "transform = transforms.Compose([GaussianNoise(0, 0.001)])\n",
    "\n",
    "\n",
    "dataset = MetaSignGlossDataset(transform=transform, augmentations=True, pad_to_max = True)\n",
    "num_classes = len(dataset.gloss)\n",
    "seq_len = dataset.max_seq_len\n",
    "\n",
    "train_loader, val_loader = get_dataloader(dataset, generator)\n"
   ]
  },
  {
   "cell_type": "code",
   "execution_count": 8,
   "id": "eddb0ce3",
   "metadata": {},
   "outputs": [
    {
     "name": "stdout",
     "output_type": "stream",
     "text": [
      "Feature isolated transformer\n",
      "self.selected_attn prob\n",
      "Encoder with input adaptive\n",
      "self.selected_attn prob\n",
      "Encoder with input adaptive\n",
      "self.selected_attn prob\n",
      "Encoder with input adaptive\n",
      "Using custom DecoderLayer\n",
      "Normal decoder\n",
      "num_enc_layers 3, num_dec_layers 2, patient 1\n"
     ]
    },
    {
     "name": "stderr",
     "output_type": "stream",
     "text": [
      "c:\\Users\\kneep\\Desktop\\Handy 2.0\\MetaSign\\.venv\\Lib\\site-packages\\torch\\nn\\modules\\transformer.py:382: UserWarning: enable_nested_tensor is True, but self.use_nested_tensor is False because encoder_layer.self_attn.batch_first was not True(use batch_first for better inference performance)\n",
      "  warnings.warn(\n"
     ]
    }
   ],
   "source": [
    "\n",
    "model = SiFormer(num_classes=num_classes,  seq_len=seq_len)\n",
    "model.to(device)\n",
    "criterion = nn.CrossEntropyLoss()\n",
    "optimizer = torch.optim.AdamW(model.parameters(), lr=0.0001, betas=(0.9, 0.999), weight_decay=1e-8)\n",
    "scheduler = optim.lr_scheduler.MultiStepLR(optimizer, milestones=[60, 80], gamma=0.1)  # 40, 60, 80\n",
    "\n",
    "\n",
    "# for epoch in (pbar:=tqdm(range(num_epochs), desc=\"Training...\", position=0)):\n",
    "#     loss, train_accuracy = train_epoch(\n",
    "#         model=model,\n",
    "#         dataloader=train_loader,\n",
    "#         criterion=criterion,\n",
    "#         optimizer=optimizer,\n",
    "#         scheduler=scheduler,\n",
    "#         device=device\n",
    "#     )\n",
    "#     _, _, val_accuracy = evaluate(model=model, dataloader=val_loader, device=device)\n",
    "\n",
    "#     pbar.set_postfix({\n",
    "#         \"Loss\": f\"{loss:.4f}\",\n",
    "#         \"Train Acc\": f\"{train_accuracy:.2f}%\",\n",
    "#         \"Val Acc\": f\"{val_accuracy:.2f}%\"\n",
    "#     })"
   ]
  },
  {
   "cell_type": "code",
   "execution_count": 16,
   "id": "c0fa379b",
   "metadata": {},
   "outputs": [
    {
     "name": "stdout",
     "output_type": "stream",
     "text": [
      "torch.Size([2000])\n"
     ]
    }
   ],
   "source": [
    "r, l, b, label = dataset[76]\n",
    "r = r.to(device)\n",
    "l = l.to(device)\n",
    "b = b.to(device)\n",
    "\n",
    "o = model(r.unsqueeze(0), l.unsqueeze(0), b.unsqueeze(0), training=False)\n",
    "\n",
    "print(o.shape)"
   ]
  },
  {
   "cell_type": "code",
   "execution_count": null,
   "id": "4bbecd99",
   "metadata": {},
   "outputs": [],
   "source": []
  }
 ],
 "metadata": {
  "kernelspec": {
   "display_name": ".venv",
   "language": "python",
   "name": "python3"
  },
  "language_info": {
   "codemirror_mode": {
    "name": "ipython",
    "version": 3
   },
   "file_extension": ".py",
   "mimetype": "text/x-python",
   "name": "python",
   "nbconvert_exporter": "python",
   "pygments_lexer": "ipython3",
   "version": "3.11.9"
  }
 },
 "nbformat": 4,
 "nbformat_minor": 5
}
